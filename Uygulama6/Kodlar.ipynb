{
 "cells": [
  {
   "cell_type": "code",
   "execution_count": 1,
   "metadata": {},
   "outputs": [],
   "source": [
    "print(\"\"\"\n",
    "\n",
    "\n",
    "****Bootstrap Yöntemi ile sınıflandırma\n",
    "Bu yöntem Holdout yöntemine göre daha iyi sonuçlar verdi\n",
    "\n",
    "\"\"\")"
   ]
  },
  {
   "cell_type": "code",
   "execution_count": 1,
   "metadata": {},
   "outputs": [],
   "source": [
    "import pandas as pd\n",
    "import numpy as np\n",
    "from sklearn.cluster import KMeans\n",
    "from sklearn.preprocessing import LabelEncoder\n",
    "from sklearn.preprocessing import MinMaxScaler\n",
    "from sklearn.preprocessing import Imputer\n",
    "from sklearn.model_selection import train_test_split\n",
    "from sklearn import svm\n",
    "from sklearn import metrics\n",
    "from sklearn import model_selection\n",
    "from sklearn.ensemble import BaggingClassifier\n",
    "from sklearn.tree import DecisionTreeClassifier\n",
    "from sklearn.ensemble import AdaBoostClassifier\n",
    "from sklearn.model_selection import KFold\n",
    "from sklearn.utils import resample\n"
   ]
  },
  {
   "cell_type": "code",
   "execution_count": 2,
   "metadata": {},
   "outputs": [],
   "source": [
    "dataset = pd.read_excel(\"diyabet.XLSX\",index_col = 'id') "
   ]
  },
  {
   "cell_type": "code",
   "execution_count": 3,
   "metadata": {},
   "outputs": [],
   "source": [
    "label = LabelEncoder() \n",
    "dataset['class'] = label.fit_transform(dataset['class'])"
   ]
  },
  {
   "cell_type": "code",
   "execution_count": 4,
   "metadata": {},
   "outputs": [],
   "source": [
    "malik = resample(dataset, replace=True, random_state=1)"
   ]
  },
  {
   "cell_type": "code",
   "execution_count": 5,
   "metadata": {},
   "outputs": [],
   "source": [
    "def K_en():\n",
    "    a = np.array(malik.drop(['class'], 1).astype(float))\n",
    "    y = np.array(malik['class'])\n",
    "    kmeans = KMeans(n_clusters=5) # K = 5 ile sınıflandırma\n",
    "    kmeans.fit(a)\n",
    "    correct = 0\n",
    "    for i in range(len(a)):\n",
    "        tahmin = np.array(a[i].astype(float))\n",
    "        tahmin = tahmin.reshape(-1, len(tahmin))\n",
    "        T = kmeans.predict(tahmin)\n",
    "        if T[0] == y[i]:\n",
    "             correct += 1\n",
    "\n",
    "    print(correct/len(a))"
   ]
  },
  {
   "cell_type": "code",
   "execution_count": 6,
   "metadata": {},
   "outputs": [
    {
     "name": "stdout",
     "output_type": "stream",
     "text": [
      "0.22135416666666666\n"
     ]
    }
   ],
   "source": [
    "K_en()"
   ]
  },
  {
   "cell_type": "code",
   "execution_count": 7,
   "metadata": {},
   "outputs": [],
   "source": [
    "a = malik[[\"preg\",\"plas\",\"pres\",\"skin\",\"insu\",\"mass\",\"pedi\",\"age\"]]\n",
    "b = malik[\"class\"] \n",
    "X_train, X_test, y_train, y_test = train_test_split(a, b, test_size=0.3) "
   ]
  },
  {
   "cell_type": "code",
   "execution_count": 8,
   "metadata": {},
   "outputs": [],
   "source": [
    "def dvm():\n",
    "    clf = svm.SVC(kernel='linear') \n",
    "    clf.fit(X_train, y_train)\n",
    " \n",
    "    y_pred = clf.predict(X_test)\n",
    "    print(\"Başarı:\",metrics.accuracy_score(y_test, y_pred))"
   ]
  },
  {
   "cell_type": "code",
   "execution_count": 9,
   "metadata": {},
   "outputs": [
    {
     "name": "stdout",
     "output_type": "stream",
     "text": [
      "Başarı: 0.7748917748917749\n"
     ]
    }
   ],
   "source": [
    "dvm()"
   ]
  },
  {
   "cell_type": "code",
   "execution_count": 10,
   "metadata": {},
   "outputs": [],
   "source": [
    "def bagging():\n",
    "    # değerlerin büyük olmasından öncelikle min-max normalizasyonu uyguladım daha sonra bagging sınıflandırıcısını kullandım\n",
    "    \n",
    "    deger = malik.values\n",
    "\n",
    "    imputer = Imputer()\n",
    "    imputedData = imputer.fit_transform(deger)\n",
    "    scaler = MinMaxScaler(feature_range=(0, 1))\n",
    "    \n",
    "    normalizedData = scaler.fit_transform(imputedData)\n",
    "    \n",
    "    X = normalizedData[:,0:8]\n",
    "    Y = normalizedData[:,8]\n",
    "    \n",
    "    kfold = model_selection.KFold(n_splits=10, random_state=1)\n",
    "    cart = DecisionTreeClassifier()\n",
    "    num_trees = 100\n",
    "    model = BaggingClassifier(base_estimator=cart, n_estimators=num_trees, random_state=1)\n",
    "    results = model_selection.cross_val_score(model, X, Y, cv=kfold)\n",
    "    print(results.mean())"
   ]
  },
  {
   "cell_type": "code",
   "execution_count": 11,
   "metadata": {},
   "outputs": [
    {
     "name": "stderr",
     "output_type": "stream",
     "text": [
      "C:\\ProgramData\\Anaconda3\\lib\\site-packages\\sklearn\\utils\\deprecation.py:66: DeprecationWarning: Class Imputer is deprecated; Imputer was deprecated in version 0.20 and will be removed in 0.22. Import impute.SimpleImputer from sklearn instead.\n",
      "  warnings.warn(msg, category=DeprecationWarning)\n"
     ]
    },
    {
     "name": "stdout",
     "output_type": "stream",
     "text": [
      "0.8944976076555025\n"
     ]
    }
   ],
   "source": [
    "bagging() # holdout yöntemine göre başarı oranı artmış"
   ]
  },
  {
   "cell_type": "code",
   "execution_count": 12,
   "metadata": {},
   "outputs": [],
   "source": [
    "def boosting():\n",
    "    boo = AdaBoostClassifier(n_estimators=50,learning_rate=1)\n",
    "    model = boo.fit(X_train, y_train)\n",
    "    y_pred = model.predict(X_test)\n",
    "    print(\"Başarı:\",metrics.accuracy_score(y_test, y_pred))"
   ]
  },
  {
   "cell_type": "code",
   "execution_count": 13,
   "metadata": {},
   "outputs": [
    {
     "name": "stdout",
     "output_type": "stream",
     "text": [
      "Başarı: 0.8311688311688312\n"
     ]
    }
   ],
   "source": [
    "boosting()# holdout yöntemine göre başarı oranı artmış"
   ]
  },
  {
   "cell_type": "code",
   "execution_count": 14,
   "metadata": {},
   "outputs": [],
   "source": [
    "# data verileri üzerinde grafik çizme "
   ]
  },
  {
   "cell_type": "code",
   "execution_count": 228,
   "metadata": {},
   "outputs": [],
   "source": [
    "data = pd.read_excel(\"data.xlsx\") "
   ]
  },
  {
   "cell_type": "code",
   "execution_count": 229,
   "metadata": {},
   "outputs": [],
   "source": [
    "import matplotlib.pyplot as plt"
   ]
  },
  {
   "cell_type": "code",
   "execution_count": 230,
   "metadata": {},
   "outputs": [
    {
     "data": {
      "image/png": "[encoded data removed]",
      "text/plain": [
       "<Figure size 432x288 with 1 Axes>"
      ]
     },
     "metadata": {
      "needs_background": "light"
     },
     "output_type": "display_data"
    }
   ],
   "source": [
    "box_plot_data=[data['Yas'],data['Yag']]\n",
    "plt.boxplot(box_plot_data,patch_artist=True)\n",
    "plt.title('Kutu Grafiği')\n",
    "plt.show()"
   ]
  },
  {
   "cell_type": "code",
   "execution_count": 231,
   "metadata": {},
   "outputs": [
    {
     "data": {
      "image/png": "[encoded data removed]",
      "text/plain": [
       "<Figure size 432x288 with 1 Axes>"
      ]
     },
     "metadata": {
      "needs_background": "light"
     },
     "output_type": "display_data"
    }
   ],
   "source": [
    "plt.scatter(data['Yas'],data['Yag'], c='red')\n",
    "plt.title('Scatter plot')\n",
    "plt.xlabel('x')\n",
    "plt.ylabel('y')\n",
    "plt.show()"
   ]
  },
  {
   "cell_type": "code",
   "execution_count": 232,
   "metadata": {},
   "outputs": [],
   "source": [
    "import statsmodels.api as sm\n",
    "import scipy.stats as stats"
   ]
  },
  {
   "cell_type": "code",
   "execution_count": 233,
   "metadata": {},
   "outputs": [
    {
     "data": {
      "image/png": "[encoded data removed]",
      "text/plain": [
       "<Figure size 432x288 with 1 Axes>"
      ]
     },
     "metadata": {
      "needs_background": "light"
     },
     "output_type": "display_data"
    }
   ],
   "source": [
    "fig = sm.qqplot(data, stats.t, fit=True, line='45')\n",
    "plt.title('Quantile plot')\n",
    "plt.show()"
   ]
  },
  {
   "cell_type": "code",
   "execution_count": 237,
   "metadata": {},
   "outputs": [],
   "source": [
    "# z skor normalizasyonu\n",
    "z = data.values\n",
    "from sklearn.preprocessing import StandardScaler\n",
    "scaler = StandardScaler()\n",
    "\n",
    "dat =scaler.fit(z)"
   ]
  },
  {
   "cell_type": "code",
   "execution_count": 238,
   "metadata": {},
   "outputs": [
    {
     "data": {
      "text/plain": [
       "StandardScaler(copy=True, with_mean=True, with_std=True)"
      ]
     },
     "execution_count": 238,
     "metadata": {},
     "output_type": "execute_result"
    }
   ],
   "source": [
    "dat"
   ]
  },
  {
   "cell_type": "code",
   "execution_count": 239,
   "metadata": {},
   "outputs": [],
   "source": [
    "def degerHesapla():\n",
    "    print(\"Yaş Ortalama       =\",data['Yas'].mean())\n",
    "    print(\"Yaş Standard sapma =\",data['Yas'].std())\n",
    "    print(\"Yaş Ortanca        =\",data['Yas'].median())\n",
    "    print(\"-\"*50)\n",
    "    print(\"Vücut Yağ Oranı Ortalama =\",data['Yag'].mean())\n",
    "    print(\"Vücut Yağ Oranı S.Sapma  =\",data['Yag'].std())\n",
    "    print(\"Vücut Yağ Oranı Ortanca  =\",data['Yag'].median())\n",
    "  \n",
    "    "
   ]
  },
  {
   "cell_type": "code",
   "execution_count": 240,
   "metadata": {},
   "outputs": [
    {
     "name": "stdout",
     "output_type": "stream",
     "text": [
      "Yaş Ortalama       = 47.22222222222222\n",
      "Yaş Standard sapma = 13.26896226074685\n",
      "Yaş Ortanca        = 52.0\n",
      "--------------------------------------------------\n",
      "Vücut Yağ Oranı Ortalama = 28.38888888888889\n",
      "Vücut Yağ Oranı S.Sapma  = 9.47528605117724\n",
      "Vücut Yağ Oranı Ortanca  = 31.1\n"
     ]
    }
   ],
   "source": [
    "degerHesapla()"
   ]
  },
  {
   "cell_type": "code",
   "execution_count": null,
   "metadata": {},
   "outputs": [],
   "source": []
  }
 ],
 "metadata": {
  "kernelspec": {
   "display_name": "Python 3",
   "language": "python",
   "name": "python3"
  },
  "language_info": {
   "codemirror_mode": {
    "name": "ipython",
    "version": 3
   },
   "file_extension": ".py",
   "mimetype": "text/x-python",
   "name": "python",
   "nbconvert_exporter": "python",
   "pygments_lexer": "ipython3",
   "version": "3.7.4"
  }
 },
 "nbformat": 4,
 "nbformat_minor": 2
}
