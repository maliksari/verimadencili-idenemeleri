{
 "cells": [
  {
   "cell_type": "code",
   "execution_count": 2,
   "metadata": {},
   "outputs": [],
   "source": [
    "\"\"\"\n",
    "burda amacım holdout yöntemi ve Bootstrap yöntemini karşılaştırmaktı\n",
    "bootstrap yöntemi uygulaması Kodlar.ipynb dosyasında bulunuyor\n",
    "*** Holdout Yöntemi kullanılarak  sınıflandırma\n",
    "\n",
    "\"\"\""
   ]
  },
  {
   "cell_type": "code",
   "execution_count": 1,
   "metadata": {},
   "outputs": [],
   "source": [
    "import pandas as pd\n",
    "import numpy as np\n",
    "from sklearn.cluster import KMeans\n",
    "from sklearn.preprocessing import LabelEncoder\n",
    "from sklearn.preprocessing import MinMaxScaler\n",
    "from sklearn.preprocessing import Imputer\n",
    "from sklearn.model_selection import train_test_split\n",
    "from sklearn import svm\n",
    "from sklearn import metrics\n",
    "from sklearn import model_selection\n",
    "from sklearn.ensemble import BaggingClassifier\n",
    "from sklearn.tree import DecisionTreeClassifier\n",
    "from sklearn.ensemble import AdaBoostClassifier\n"
   ]
  },
  {
   "cell_type": "code",
   "execution_count": 2,
   "metadata": {},
   "outputs": [],
   "source": [
    "dataset = pd.read_excel(\"diyabet.XLSX\",index_col = 'id')  "
   ]
  },
  {
   "cell_type": "code",
   "execution_count": 3,
   "metadata": {},
   "outputs": [],
   "source": [
    "label = LabelEncoder() \n",
    "dataset['class'] = label.fit_transform(dataset['class'])"
   ]
  },
  {
   "cell_type": "code",
   "execution_count": 4,
   "metadata": {},
   "outputs": [],
   "source": [
    "# K en yakın komşu \n",
    "def K_en():\n",
    "    a = np.array(dataset.drop(['class'], 1).astype(float))\n",
    "    y = np.array(dataset['class'])\n",
    "    kmeans = KMeans(n_clusters=5) \n",
    "    kmeans.fit(a)\n",
    "    correct = 0\n",
    "    for i in range(len(a)):\n",
    "        tahmin = np.array(a[i].astype(float))\n",
    "        tahmin = tahmin.reshape(-1, len(tahmin))\n",
    "        T = kmeans.predict(tahmin)\n",
    "        if T[0] == y[i]:\n",
    "             correct += 1\n",
    "\n",
    "    print(correct/len(a))"
   ]
  },
  {
   "cell_type": "code",
   "execution_count": 5,
   "metadata": {},
   "outputs": [
    {
     "name": "stdout",
     "output_type": "stream",
     "text": [
      "0.234375\n"
     ]
    }
   ],
   "source": [
    "K_en()"
   ]
  },
  {
   "cell_type": "code",
   "execution_count": 6,
   "metadata": {},
   "outputs": [],
   "source": [
    "a = dataset[[\"preg\",\"plas\",\"pres\",\"skin\",\"insu\",\"mass\",\"pedi\",\"age\"]]\n",
    "b = dataset[\"class\"] \n",
    "X_train, X_test, y_train, y_test = train_test_split(a, b, test_size=0.2)   #verilerin %20 test verisi olarak ayrılması"
   ]
  },
  {
   "cell_type": "code",
   "execution_count": 7,
   "metadata": {},
   "outputs": [],
   "source": [
    "# destek vektör makinesi ile sınıflandırma \n",
    "def dvm():\n",
    "    clf = svm.SVC(kernel='linear') \n",
    "    clf.fit(X_train, y_train)\n",
    "    \n",
    "    y_pred = clf.predict(X_test)\n",
    "    print(\"Başarı:\",metrics.accuracy_score(y_test, y_pred))\n",
    "    "
   ]
  },
  {
   "cell_type": "code",
   "execution_count": 8,
   "metadata": {},
   "outputs": [
    {
     "name": "stdout",
     "output_type": "stream",
     "text": [
      "Başarı: 0.7987012987012987\n"
     ]
    }
   ],
   "source": [
    "dvm()"
   ]
  },
  {
   "cell_type": "code",
   "execution_count": 9,
   "metadata": {},
   "outputs": [],
   "source": [
    "def bagging():\n",
    "# baggin sınıflandırıcısı    \n",
    "    deger = dataset.values\n",
    "    imputer = Imputer()\n",
    "    imputedData = imputer.fit_transform(deger)\n",
    "    \n",
    "    scaler = MinMaxScaler(feature_range=(0, 1))\n",
    "    normalizedData = scaler.fit_transform(imputedData)\n",
    "    \n",
    "    X = normalizedData[:,0:8]\n",
    "    Y = normalizedData[:,8]\n",
    "    \n",
    "    kfold = model_selection.KFold(n_splits=10, random_state=1)\n",
    "    cart = DecisionTreeClassifier()\n",
    "   \n",
    "    model = BaggingClassifier(base_estimator=cart, n_estimators=100, random_state=1)\n",
    "    results = model_selection.cross_val_score(model, X, Y, cv=kfold)\n",
    "    print(results.mean())"
   ]
  },
  {
   "cell_type": "code",
   "execution_count": 10,
   "metadata": {},
   "outputs": [
    {
     "name": "stderr",
     "output_type": "stream",
     "text": [
      "C:\\ProgramData\\Anaconda3\\lib\\site-packages\\sklearn\\utils\\deprecation.py:66: DeprecationWarning: Class Imputer is deprecated; Imputer was deprecated in version 0.20 and will be removed in 0.22. Import impute.SimpleImputer from sklearn instead.\n",
      "  warnings.warn(msg, category=DeprecationWarning)\n"
     ]
    },
    {
     "name": "stdout",
     "output_type": "stream",
     "text": [
      "0.7642515379357484\n"
     ]
    }
   ],
   "source": [
    "bagging()"
   ]
  },
  {
   "cell_type": "code",
   "execution_count": null,
   "metadata": {},
   "outputs": [],
   "source": [
    "# imputerde oluşan hata sürümle alaklı bi durum "
   ]
  },
  {
   "cell_type": "code",
   "execution_count": 11,
   "metadata": {},
   "outputs": [],
   "source": [
    "# boosting ile sınıflandırma\n",
    "def boosting():\n",
    "    abc = AdaBoostClassifier(n_estimators=50,learning_rate=1)\n",
    "    model = abc.fit(X_train, y_train)\n",
    "    y_pred = model.predict(X_test)\n",
    "    print(\"Başarı:\",metrics.accuracy_score(y_test, y_pred))"
   ]
  },
  {
   "cell_type": "code",
   "execution_count": 12,
   "metadata": {},
   "outputs": [
    {
     "name": "stdout",
     "output_type": "stream",
     "text": [
      "Başarı: 0.7727272727272727\n"
     ]
    }
   ],
   "source": [
    "boosting()"
   ]
  },
  {
   "cell_type": "code",
   "execution_count": null,
   "metadata": {},
   "outputs": [],
   "source": []
  },
  {
   "cell_type": "code",
   "execution_count": null,
   "metadata": {},
   "outputs": [],
   "source": []
  },
  {
   "cell_type": "code",
   "execution_count": null,
   "metadata": {},
   "outputs": [],
   "source": []
  },
  {
   "cell_type": "code",
   "execution_count": null,
   "metadata": {},
   "outputs": [],
   "source": []
  }
 ],
 "metadata": {
  "kernelspec": {
   "display_name": "Python 3",
   "language": "python",
   "name": "python3"
  },
  "language_info": {
   "codemirror_mode": {
    "name": "ipython",
    "version": 3
   },
   "file_extension": ".py",
   "mimetype": "text/x-python",
   "name": "python",
   "nbconvert_exporter": "python",
   "pygments_lexer": "ipython3",
   "version": "3.7.4"
  }
 },
 "nbformat": 4,
 "nbformat_minor": 2
}
