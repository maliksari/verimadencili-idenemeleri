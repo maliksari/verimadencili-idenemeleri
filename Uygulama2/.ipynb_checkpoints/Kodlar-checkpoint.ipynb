{
 "cells": [
  {
   "cell_type": "code",
   "execution_count": 1,
   "metadata": {},
   "outputs": [],
   "source": [
    "import pandas as pd\n",
    "import numpy as np\n",
    "from sklearn.preprocessing import LabelEncoder\n",
    "from sklearn import preprocessing\n",
    "from sklearn.neighbors import *\n",
    "lb = LabelEncoder() "
   ]
  },
  {
   "cell_type": "code",
   "execution_count": null,
   "metadata": {},
   "outputs": [],
   "source": [
    "\"\"\"\n",
    "   Veri üzerinde normalizasyon işlemleri uyguladım\n",
    "   Min-Max normalizasyonu\n",
    "   Standardisation\n",
    "   öklid manhattan ve minkowski gibi hesaplamaları uyguladım\n",
    "   \n",
    "\"\"\""
   ]
  },
  {
   "cell_type": "code",
   "execution_count": 2,
   "metadata": {},
   "outputs": [],
   "source": [
    "data = pd.read_excel(\"diyabetEksikVeri.XLSX\",index_col='id') "
   ]
  },
  {
   "cell_type": "code",
   "execution_count": 3,
   "metadata": {},
   "outputs": [],
   "source": [
    "liste = [\"preg\",\"plas\",\"pres\",\"skin\",\"insu\",\"mass\",\"pedi\",\"age\"]  \n",
    "\n",
    "\n",
    "data[liste] = data[liste].fillna(data[liste].mean())    # boş değerlere ortalama değerlerle doldurma\n",
    "\n",
    "data[liste] = data[liste].fillna(data[liste].median())  #boş değerlere median değerlerle doldurma\n",
    "\n",
    "data[liste] = data[liste].fillna(data[liste].mode())    # en çok tekrar eden sayılarla doldurma\n"
   ]
  },
  {
   "cell_type": "code",
   "execution_count": 4,
   "metadata": {},
   "outputs": [],
   "source": [
    "data = data.fillna(data[liste].mode())  # Normalizasyon ve diğer işlemler için veriyi son olarak sutünda en çok tekrarlayan \n",
    "# değerlerle doldurum"
   ]
  },
  {
   "cell_type": "code",
   "execution_count": 5,
   "metadata": {},
   "outputs": [],
   "source": [
    "data['class'] = lb.fit_transform(data['class']) # pozitif değerler 1 e negatif değerler 0 a eşitledim"
   ]
  },
  {
   "cell_type": "code",
   "execution_count": 6,
   "metadata": {},
   "outputs": [],
   "source": [
    "data = abs(data)  # negatif değerleri pazitife çevirme"
   ]
  },
  {
   "cell_type": "code",
   "execution_count": 7,
   "metadata": {},
   "outputs": [
    {
     "name": "stdout",
     "output_type": "stream",
     "text": [
      "-----Normalize Olmuş Hali-----\n",
      "[[0.35294118 0.74371859 0.59016393 ... 0.50074516 0.23441503 0.48333333]\n",
      " [0.05882353 0.42713568 0.54098361 ... 0.39642325 0.11656704 0.16666667]\n",
      " [0.47058824 0.91959799 0.52459016 ... 0.34724292 0.25362938 0.18333333]\n",
      " ...\n",
      " [0.29411765 0.6080402  0.59016393 ... 0.390462   0.07130658 0.15      ]\n",
      " [0.05882353 0.63316583 0.49180328 ... 0.4485842  0.11571307 0.43333333]\n",
      " [0.05882353 0.46733668 0.5584476  ... 0.45305514 0.10119556 0.03333333]]\n"
     ]
    }
   ],
   "source": [
    "# Min-Max normalizasyonu\n",
    "def minMax():\n",
    "    x = data.iloc[:, :8].values\n",
    "    min_max_scaler = preprocessing.MinMaxScaler(feature_range =(0, 1))\n",
    "    x_after_min_max_scaler = min_max_scaler.fit_transform(x)\n",
    "    print(\"-----Normalize Olmuş Hali-----\")\n",
    "    print(x_after_min_max_scaler)\n",
    "    \n",
    "minMax()"
   ]
  },
  {
   "cell_type": "code",
   "execution_count": 8,
   "metadata": {},
   "outputs": [
    {
     "name": "stdout",
     "output_type": "stream",
     "text": [
      "Standartlaştırılmış Hali\n",
      "[[ 0.64528913  0.85205065  0.1535288  ...  0.20885032  0.46801512\n",
      "   1.42524171]\n",
      " [-0.84330639 -1.12558863 -0.15734812 ... -0.68168175 -0.36562781\n",
      "  -0.19319334]\n",
      " [ 1.24072734  1.95073914 -0.26097376 ... -1.10150401  0.60393516\n",
      "  -0.10801255]\n",
      " ...\n",
      " [ 0.34757003  0.00449096  0.1535288  ... -0.7325693  -0.68579502\n",
      "  -0.27837413]\n",
      " [-0.84330639  0.16144646 -0.46822504 ... -0.23641571 -0.3716687\n",
      "   1.16969933]\n",
      " [-0.84330639 -0.87445983 -0.04695537 ... -0.19825005 -0.47436385\n",
      "  -0.87463968]]\n"
     ]
    }
   ],
   "source": [
    "def standart():               # Not:   Bir özellik değerini yeniden ölçeklendiren çok etkili bir tekniktir, \n",
    "                                      # böylece 0 ortalama değerde dağılım gösterir ve varyans 1'e eşittir.\n",
    "    \"\"\" Standardisation \"\"\"\n",
    "    x = data.iloc[:, :8].values\n",
    "    Standardisation = preprocessing.StandardScaler() \n",
    "  \n",
    "    \n",
    "    x_after_Standardisation = Standardisation.fit_transform(x) \n",
    "    print(\"Standartlaştırılmış Hali\")  \n",
    "    print (x_after_Standardisation) \n",
    "standart()"
   ]
  },
  {
   "cell_type": "code",
   "execution_count": 9,
   "metadata": {},
   "outputs": [
    {
     "data": {
      "text/plain": [
       "array([[  0.        ,  66.91095707,  54.29633528, ...,  87.06688436,\n",
       "         43.58127217,  61.81674164],\n",
       "       [ 66.91095707,   0.        , 102.52313417, ...,  87.38368077,\n",
       "         53.17189111,  12.28742372],\n",
       "       [ 54.29633528, 102.52313417,   0.        , ..., 103.49071822,\n",
       "         59.87774486,  96.22681207],\n",
       "       ...,\n",
       "       [ 87.06688436,  87.38368077, 103.49071822, ...,   0.        ,\n",
       "         85.26404427,  84.831324  ],\n",
       "       [ 43.58127217,  53.17189111,  59.87774486, ...,  85.26404427,\n",
       "          0.        ,  51.89602994],\n",
       "       [ 61.81674164,  12.28742372,  96.22681207, ...,  84.831324  ,\n",
       "         51.89602994,   0.        ]])"
      ]
     },
     "execution_count": 9,
     "metadata": {},
     "output_type": "execute_result"
    }
   ],
   "source": [
    "dist = DistanceMetric.get_metric('euclidean')  # Öklid hesaplaması\n",
    "\n",
    "dist.pairwise(data.values)"
   ]
  },
  {
   "cell_type": "code",
   "execution_count": 10,
   "metadata": {},
   "outputs": [
    {
     "data": {
      "text/plain": [
       "array([[  0.        , 107.276     , 108.345     , ..., 147.84359895,\n",
       "         80.778     ,  99.38139314],\n",
       "       [107.276     ,   0.        , 141.621     , ..., 132.56759895,\n",
       "         96.502     ,  23.96660686],\n",
       "       [108.345     , 141.621     ,   0.        , ..., 181.38859895,\n",
       "         90.123     , 149.58760686],\n",
       "       ...,\n",
       "       [147.84359895, 132.56759895, 181.38859895, ...,   0.        ,\n",
       "        145.06559895, 134.20099209],\n",
       "       [ 80.778     ,  96.502     ,  90.123     , ..., 145.06559895,\n",
       "          0.        ,  97.46460686],\n",
       "       [ 99.38139314,  23.96660686, 149.58760686, ..., 134.20099209,\n",
       "         97.46460686,   0.        ]])"
      ]
     },
     "execution_count": 10,
     "metadata": {},
     "output_type": "execute_result"
    }
   ],
   "source": [
    "dist = DistanceMetric.get_metric('manhattan')  # manhattan hesaplama\n",
    "\n",
    "dist.pairwise(data.values)"
   ]
  },
  {
   "cell_type": "code",
   "execution_count": 11,
   "metadata": {},
   "outputs": [
    {
     "data": {
      "text/plain": [
       "array([[  0.        ,  66.91095707,  54.29633528, ...,  87.06688436,\n",
       "         43.58127217,  61.81674164],\n",
       "       [ 66.91095707,   0.        , 102.52313417, ...,  87.38368077,\n",
       "         53.17189111,  12.28742372],\n",
       "       [ 54.29633528, 102.52313417,   0.        , ..., 103.49071822,\n",
       "         59.87774486,  96.22681207],\n",
       "       ...,\n",
       "       [ 87.06688436,  87.38368077, 103.49071822, ...,   0.        ,\n",
       "         85.26404427,  84.831324  ],\n",
       "       [ 43.58127217,  53.17189111,  59.87774486, ...,  85.26404427,\n",
       "          0.        ,  51.89602994],\n",
       "       [ 61.81674164,  12.28742372,  96.22681207, ...,  84.831324  ,\n",
       "         51.89602994,   0.        ]])"
      ]
     },
     "execution_count": 11,
     "metadata": {},
     "output_type": "execute_result"
    }
   ],
   "source": [
    "dist = DistanceMetric.get_metric('minkowski')  #minkowski hesaplama  \n",
    "                                                    \n",
    "dist.pairwise(data.values)"
   ]
  },
  {
   "cell_type": "code",
   "execution_count": null,
   "metadata": {},
   "outputs": [],
   "source": []
  }
 ],
 "metadata": {
  "kernelspec": {
   "display_name": "Python 3",
   "language": "python",
   "name": "python3"
  },
  "language_info": {
   "codemirror_mode": {
    "name": "ipython",
    "version": 3
   },
   "file_extension": ".py",
   "mimetype": "text/x-python",
   "name": "python",
   "nbconvert_exporter": "python",
   "pygments_lexer": "ipython3",
   "version": "3.7.4"
  }
 },
 "nbformat": 4,
 "nbformat_minor": 2
}
